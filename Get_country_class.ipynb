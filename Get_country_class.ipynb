{
 "cells": [
  {
   "cell_type": "code",
   "execution_count": 14,
   "metadata": {
    "collapsed": true
   },
   "outputs": [],
   "source": [
    "import urllib\n",
    "from bs4 import BeautifulSoup\n",
    "import requests\n",
    "import webbrowser\n",
    "\n",
    "class country_name(object):\n",
    "    \n",
    "    def __init__(self,city_name):\n",
    "        self.city_name = city_name\n",
    "        \n",
    "    def get_country(self):\n",
    "        header = 'where is '\n",
    "        text = self.city_name\n",
    "\n",
    "        #text = urllib.parse.quote_plus(text)\n",
    "        #print(text)\n",
    "\n",
    "        url = 'https://www.google.com/search?q='+ header+ text\n",
    "        print(url)\n",
    "\n",
    "        response = requests.get(url)\n",
    "\n",
    "        soup = BeautifulSoup(response.text, 'lxml')\n",
    "        #print(soup)\n",
    "\n",
    "        #print(soup.prettify())\n",
    "\n",
    "        #country = soup.find('h3', class_ = 'r').a.get_text('\\n')\n",
    "        c = soup.find('h3', class_ = 'r')\n",
    "        if c is None:\n",
    "            return\n",
    "        else:\n",
    "            country = c.a.get_text('\\n')\n",
    "        #country = soup.find({'class':'desktop-title-subcontent'}).text\n",
    "        print(country)\n",
    "        \n",
    "        country1 = country.split()\n",
    "        print(country1)\n",
    "        \n",
    "        country\n",
    "        # Extract Country name from string\n",
    "        keyword_UK = ['United Kingdom', 'UK',\"Kingdom\"]\n",
    "        keyword_US = ['USA', 'United States','US','States']\n",
    "\n",
    "        if set(keyword_UK).intersection(country.split()): # or \"UK\".intersection(country.split()):\n",
    "            p = \"United Kingdom\"\n",
    "        elif set(keyword_US).intersection(country.split()): # or \"UK\".intersection(country.split()):\n",
    "            p = \"USA\" \n",
    "        else:\n",
    "            p = country1[1]\n",
    "        return p\n",
    "\n"
   ]
  },
  {
   "cell_type": "code",
   "execution_count": 15,
   "metadata": {
    "collapsed": true
   },
   "outputs": [],
   "source": [
    "country = country_name(\"Coventry,West Midlands\")"
   ]
  },
  {
   "cell_type": "code",
   "execution_count": 16,
   "metadata": {},
   "outputs": [
    {
     "name": "stdout",
     "output_type": "stream",
     "text": [
      "https://www.google.com/search?q=where is Coventry,West Midlands\n",
      "Coventry\n",
      "UK\n",
      "['Coventry', 'UK']\n"
     ]
    },
    {
     "data": {
      "text/plain": [
       "'United Kingdom'"
      ]
     },
     "execution_count": 16,
     "metadata": {},
     "output_type": "execute_result"
    }
   ],
   "source": [
    "country.get_country()"
   ]
  },
  {
   "cell_type": "code",
   "execution_count": null,
   "metadata": {
    "collapsed": true
   },
   "outputs": [],
   "source": []
  }
 ],
 "metadata": {
  "kernelspec": {
   "display_name": "Python 3",
   "language": "python",
   "name": "python3"
  },
  "language_info": {
   "codemirror_mode": {
    "name": "ipython",
    "version": 3
   },
   "file_extension": ".py",
   "mimetype": "text/x-python",
   "name": "python",
   "nbconvert_exporter": "python",
   "pygments_lexer": "ipython3",
   "version": "3.7.1"
  }
 },
 "nbformat": 4,
 "nbformat_minor": 2
}
