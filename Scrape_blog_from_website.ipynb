{
 "cells": [
  {
   "cell_type": "code",
   "execution_count": 132,
   "metadata": {},
   "outputs": [
    {
     "name": "stdout",
     "output_type": "stream",
     "text": [
      "https://www.cygnet-infotech.com/\n"
     ]
    }
   ],
   "source": [
    "import requests\n",
    "from bs4 import BeautifulSoup\n",
    "\n",
    "research_later = input()\n",
    "goog_search = \"https://www.google.com/search?sclient=psy-ab&client=ubuntu&hs=k5b&channel=fs&biw=1366&bih=648&noj=1&q=\" + research_later\n",
    "\n",
    "\n",
    "r = requests.get(goog_search)\n",
    "\n",
    "soup = BeautifulSoup(r.text, \"html.parser\")\n",
    "comp_site = soup.find('cite').text\n",
    "\n",
    "print(comp_site)"
   ]
  },
  {
   "cell_type": "code",
   "execution_count": 133,
   "metadata": {
    "scrolled": true
   },
   "outputs": [
    {
     "name": "stdout",
     "output_type": "stream",
     "text": [
      "https://www.cygnet-infotech.com/\n",
      "['/blog', '/news-and-events', '/blog', '/news-and-events', '/news-and-events/cygnet-gsp-announces-e-way-bill-solution-for-the-indian-market', '/news-and-events/cygnet-gsp-solution-is-live']\n"
     ]
    }
   ],
   "source": [
    "import urllib\n",
    "from bs4 import BeautifulSoup\n",
    "import requests\n",
    "import webbrowser\n",
    "import re\n",
    "\n",
    "if 'https' in comp_site:\n",
    "    co = comp_site\n",
    "else:\n",
    "    co = \"http://\" + comp_site\n",
    "\n",
    "print(co)\n",
    "#comp_site = \"http://xbyte-technolabs.com/\"\n",
    "#co = \"https://www.interimarket.com/employers\"\n",
    "b = requests.get(co)\n",
    "#print(b)\n",
    "\n",
    "soup1 = BeautifulSoup(b.content,\"lxml\")\n",
    "#print(soup1)\n",
    "links = []\n",
    "\n",
    "atag = soup1.find_all('a')\n",
    "\n",
    "for link in atag:\n",
    "    if link.has_attr('href'):\n",
    "        if \"blog\" in link[\"href\"] or \"articles\" in link[\"href\"] or \"news\" in link[\"href\"]:  \n",
    "            links.append(link[\"href\"])\n",
    "\n",
    "#for i in range(0,len(links)):\n",
    "#    if \"blog\" in links:\n",
    "#        print(links[i])\n",
    "print(links)\n"
   ]
  },
  {
   "cell_type": "code",
   "execution_count": null,
   "metadata": {
    "collapsed": true
   },
   "outputs": [],
   "source": []
  }
 ],
 "metadata": {
  "kernelspec": {
   "display_name": "Python 3",
   "language": "python",
   "name": "python3"
  },
  "language_info": {
   "codemirror_mode": {
    "name": "ipython",
    "version": 3
   },
   "file_extension": ".py",
   "mimetype": "text/x-python",
   "name": "python",
   "nbconvert_exporter": "python",
   "pygments_lexer": "ipython3",
   "version": "3.6.3"
  }
 },
 "nbformat": 4,
 "nbformat_minor": 2
}
